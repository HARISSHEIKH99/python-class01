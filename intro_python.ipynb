{
  "nbformat": 4,
  "nbformat_minor": 0,
  "metadata": {
    "colab": {
      "provenance": [],
      "authorship_tag": "ABX9TyOs3l0sYThXYU5uRxhsTBIt",
      "include_colab_link": true
    },
    "kernelspec": {
      "name": "python3",
      "display_name": "Python 3"
    },
    "language_info": {
      "name": "python"
    }
  },
  "cells": [
    {
      "cell_type": "markdown",
      "metadata": {
        "id": "view-in-github",
        "colab_type": "text"
      },
      "source": [
        "<a href=\"https://colab.research.google.com/github/HARISSHEIKH99/python-class01/blob/main/intro_python.ipynb\" target=\"_parent\"><img src=\"https://colab.research.google.com/assets/colab-badge.svg\" alt=\"Open In Colab\"/></a>"
      ]
    },
    {
      "cell_type": "markdown",
      "source": [],
      "metadata": {
        "id": "qVRsycL4RvJ2"
      }
    },
    {
      "cell_type": "code",
      "source": [
        "from re import T\n",
        "print(\"add_two_numbers\")\n",
        "\n",
        "def add():\n",
        "  print(\"This application for add two numbers\")\n",
        "  first_number = int(input(\"Enter your first number. \"))\n",
        "  second_number = int(input(\"Enter your second number. \"))\n",
        "  total = int(first_number + second_number)\n",
        "  print(f'The total sum of {first_number} and {second_number} is {total}')\n",
        "\n",
        "if __name__ == \"__main__\":\n",
        "  add()"
      ],
      "metadata": {
        "colab": {
          "base_uri": "https://localhost:8080/"
        },
        "id": "Tuq_dgosXBCC",
        "outputId": "e4652adc-1a96-4325-a892-bfa21d95a8de"
      },
      "execution_count": 23,
      "outputs": [
        {
          "output_type": "stream",
          "name": "stdout",
          "text": [
            "add_two_numbers\n",
            "This application for add two numbers\n",
            "Enter your first number. 6\n",
            "Enter your second number. 6\n",
            "The total sum of 6 and 6 is 12\n"
          ]
        }
      ]
    },
    {
      "cell_type": "code",
      "source": [
        "print(\"02_agreement_bot\")\n",
        "\n",
        "def bot():\n",
        "  animal = str(input(\"What thier favorite animal is? \"))\n",
        "  print(f\"My favorite animal is {animal}!\")\n",
        "\n",
        "if __name__ == \"__main__\":\n",
        "  bot()"
      ],
      "metadata": {
        "colab": {
          "base_uri": "https://localhost:8080/"
        },
        "id": "G2Bnkx3zY3Xf",
        "outputId": "67572a9e-ca21-4cad-8001-7444c6378e1a"
      },
      "execution_count": 24,
      "outputs": [
        {
          "output_type": "stream",
          "name": "stdout",
          "text": [
            "02_agreement_bot\n",
            "What thier favorite animal is? CAT\n",
            "My favorite animal is CAT!\n"
          ]
        }
      ]
    },
    {
      "cell_type": "code",
      "source": [],
      "metadata": {
        "id": "7ZEoSbLPd_OQ"
      },
      "execution_count": null,
      "outputs": []
    },
    {
      "cell_type": "code",
      "source": [
        "print(\"03_fahrenheit_to_celsius\")\n",
        "\n",
        "def tem():\n",
        "  print(\"This is converting fahrenheit to celsius\")\n",
        "  fahrenheit_degree = float(input(\"Enter your fahrenheit degree \"))\n",
        "  celcius_degree = (fahrenheit_degree - 32) * 5.0/9.0\n",
        "  print(f'Tempreture {fahrenheit_degree}F = {celcius_degree}C')\n",
        "\n",
        "if __name__ == \"__main__\":\n",
        "  tem()\n"
      ],
      "metadata": {
        "colab": {
          "base_uri": "https://localhost:8080/"
        },
        "id": "I-MUpg4dbDU1",
        "outputId": "0ff4361d-bf6e-48a5-f6d8-3b3511e1c360"
      },
      "execution_count": 22,
      "outputs": [
        {
          "output_type": "stream",
          "name": "stdout",
          "text": [
            "03_fahrenheit_to_celsius\n",
            "This is converting fahrenheit to celsius\n",
            "Enter your fahrenheit degree 5\n",
            "Tempreture 5.0F = -15.0C\n"
          ]
        }
      ]
    },
    {
      "cell_type": "code",
      "source": [
        "print(\"04_how_old_are_they\")\n",
        "\n",
        "def add_ages():\n",
        "  anthon:int = 21\n",
        "  beth:int = anthon + 6\n",
        "  chen:int = beth + 20\n",
        "  drew:int = chen + anthon\n",
        "  ethan:int = chen\n",
        "\n",
        "  print(f'Anthon is ' + str(anthon))\n",
        "  print(f'Beth is ' + str(beth))\n",
        "  print(f'Chen is ' + str(chen))\n",
        "  print(f'Drew is ' + str(drew))\n",
        "  print(f'Ethen is ' + str(ethan))\n",
        "\n",
        "if __name__ == \"__main__\":\n",
        "  add_ages()\n",
        "\n"
      ],
      "metadata": {
        "colab": {
          "base_uri": "https://localhost:8080/"
        },
        "id": "5RQQzyrQfU7Q",
        "outputId": "6f3175f3-993a-4e94-9496-f5a28cc50c4d"
      },
      "execution_count": 26,
      "outputs": [
        {
          "output_type": "stream",
          "name": "stdout",
          "text": [
            "04_how_old_are_they\n",
            "Anthon is 21\n",
            "Beth is 27\n",
            "Chen is 47\n",
            "Drew is 68\n",
            "Ethen is 47\n"
          ]
        }
      ]
    },
    {
      "cell_type": "code",
      "source": [
        "print(\"05_triangle_perimeter\")\n",
        "\n",
        "def triangle():\n",
        "  print(\"This code is about sum of triangle sides\")\n",
        "  side1:float = float(input(\"Enter your first side no of triangle. \"))\n",
        "  side2:float = float(input(\"Enter your second side no of triangle. \"))\n",
        "  side3:float = float(input(\"Enter your third side no of triangle.\"))\n",
        "  total:float = float(side1 + side2 + side3)\n",
        "  print(f'The perimeter of triangle is {total}')\n",
        "\n",
        "if __name__ == \"__main__\":\n",
        " triangle()\n"
      ],
      "metadata": {
        "colab": {
          "base_uri": "https://localhost:8080/"
        },
        "id": "-EmQoecZvwIZ",
        "outputId": "e3940c5f-9548-48dd-cf98-015f3e58bf5f"
      },
      "execution_count": 7,
      "outputs": [
        {
          "output_type": "stream",
          "name": "stdout",
          "text": [
            "05_triangle_perimeter\n",
            "This code is about sum of triangle sides\n",
            "Enter your first side no of triangle. 6.9\n",
            "Enter your second side no of triangle. 6\n",
            "Enter your third side no of triangle.8\n",
            "The perimeter of triangle is 20.9\n"
          ]
        }
      ]
    },
    {
      "cell_type": "code",
      "source": [
        "print(\"06_square_number\")\n",
        "\n",
        "def square():\n",
        "  print(\"This codeis about aquare of given number\")\n",
        "  num1:int = int(input(\"Enter any number and i will given ua square value. \"))\n",
        "  print(f'The square of {num1} is {num1 ** 2}')\n",
        "\n",
        "if __name__ ==  \"__main__\":\n",
        "    square()"
      ],
      "metadata": {
        "colab": {
          "base_uri": "https://localhost:8080/"
        },
        "id": "CKftiZyRzYTw",
        "outputId": "817cd6f9-4aaa-4989-d1ea-53813bc03701"
      },
      "execution_count": 13,
      "outputs": [
        {
          "output_type": "stream",
          "name": "stdout",
          "text": [
            "06_square_number\n",
            "This codeis about aquare of given number\n",
            "Enter any number and i will given ua square value. 3\n",
            "The square of 3 is 9\n"
          ]
        }
      ]
    }
  ]
}